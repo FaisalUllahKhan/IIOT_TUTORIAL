{
 "cells": [
  {
   "cell_type": "markdown",
   "metadata": {},
   "source": [
    "#### 1. Let's setup the components of the Middleware\n",
    "\n",
    "1. Elasticsearch Database\n",
    "2. Kibana - to browse the data in the database\n",
    "\n",
    "\n",
    "#### 2. Setting up Elasticsearch\n",
    "\n",
    "Visit the link to install Elasticsearch on your system\n",
    "https://www.elastic.co/guide/en/elasticsearch/reference/current/getting-started-install.html\n",
    "\n",
    "\n",
    "#### 3. Setting up Kibana\n",
    "Visit the link to install Kibana on your system\n",
    "https://www.elastic.co/guide/en/kibana/current/targz.html\n",
    "\n",
    "#### 4. Run Elasticsearch and Kibana\n",
    "Launch ./elasticsearch from elasticsearch-x.y.z/bin/\n",
    "Launch ./kibana from kibana-x.y.z/bin \n",
    "\n",
    "\n",
    "#### 5. Test Elasticsearch and Kibana\n",
    "Visit Elasticsearch @ http://localhost:9200\n",
    "\n",
    "Visit Kibana @ http://localhost:5601\n",
    "\n",
    "#### 6. Elasticsearch API\n",
    "Now that we have installed Elasticsearch, let's understand how we can store data in the DB using the REST APIs provided by Elasticsearch.\n",
    "\n",
    "Please visit the link below to read more about REST and HTTP\n",
    "https://code.tutsplus.com/tutorials/a-beginners-guide-to-http-and-rest--net-16340\n",
    "\n",
    "1. REST APIs use HTTP to query,insert, update and delete data from the DB.\n",
    "2. HTTP is the protocol that makes the World Wide Web possible.\n",
    "3. Everytime we visit a page in a Web Browser, the browser makes a HTTP GET request to fetch the page.\n",
    "4. Also, everytime we submit a form on a webpage, the form data is submitted using a POST request.\n",
    "\n",
    "The common HTTP verbs are - \n",
    "\n",
    "1. GET  - Query data form DB\n",
    "2. POST - Insert data into DB\n",
    "\n",
    "In python, we can use the simple and easy to use `Requests` library to make HTTP requests.\n",
    "\n",
    "Install the library by running the cell below.\n"
   ]
  },
  {
   "cell_type": "code",
   "execution_count": null,
   "metadata": {},
   "outputs": [],
   "source": [
    "pip install requests"
   ]
  },
  {
   "cell_type": "markdown",
   "metadata": {},
   "source": [
    "##### Gentle Introduction to HTTP and REST\n",
    "\n",
    "Now that we have installed the `Requests` library, let's learn how to use it.\n",
    "\n",
    "###### 1. First of all, let's visit the link - http://httpbin.org/get\n",
    "\n",
    "On visiting the page, we find the details of the HTTP GET Request made.\n",
    "\n",
    "`\n",
    "{\n",
    "  \"args\": {}, \n",
    "  \"headers\": {\n",
    "    \"Accept\": \"text/html,application/xhtml+xml,application/xml;q=0.9,image/webp,image/apng,*/*;q=0.8,application/signed-exchange;v=b3\", \n",
    "    \"Accept-Encoding\": \"gzip, deflate, br\", \n",
    "    \"Accept-Language\": \"en-US,en;q=0.9\", \n",
    "    \"Host\": \"httpbin.org\", \n",
    "    \"Referer\": \"http://localhost:8888/notebooks/T03%20-%20IIOT%20Middleware.ipynb\", \n",
    "    \"Upgrade-Insecure-Requests\": \"1\", \n",
    "    \"User-Agent\": \"Mozilla/5.0 (X11; Linux x86_64) AppleWebKit/537.36 (KHTML, like Gecko) Chrome/74.0.3729.172 Safari/537.36 Vivaldi/2.5.1525.48\"\n",
    "  }, \n",
    "  \"origin\": \"14.139.128.32, 14.139.128.32\", \n",
    "  \"url\": \"https://httpbin.org/get\"\n",
    "}`\n",
    "\n",
    "###### 2. Let's try another time and visit the link - http://httpbin.org/get?user=1\n",
    "\n",
    "This time, we get a response like this - \n",
    "\n",
    "`\n",
    "{\n",
    "  \"args\": {\n",
    "    \"user\": \"1\"\n",
    "  }, \n",
    "  \"headers\": {\n",
    "    \"Accept\": \"text/html,application/xhtml+xml,application/xml;q=0.9,image/webp,image/apng,*/*;q=0.8,application/signed-exchange;v=b3\", \n",
    "    \"Accept-Encoding\": \"gzip, deflate, br\", \n",
    "    \"Accept-Language\": \"en-US,en;q=0.9\", \n",
    "    \"Host\": \"httpbin.org\", \n",
    "    \"Referer\": \"http://localhost:8888/notebooks/T03%20-%20IIOT%20Middleware.ipynb\", \n",
    "    \"Upgrade-Insecure-Requests\": \"1\", \n",
    "    \"User-Agent\": \"Mozilla/5.0 (X11; Linux x86_64) AppleWebKit/537.36 (KHTML, like Gecko) Chrome/74.0.3729.172 Safari/537.36 Vivaldi/2.5.1525.48\"\n",
    "  }, \n",
    "  \"origin\": \"14.139.128.32, 14.139.128.32\", \n",
    "  \"url\": \"https://httpbin.org/get?user=1\"\n",
    "}\n",
    "`\n",
    "\n",
    "- The important part to notice is the **args** field. This time we sent the parameter **user** with the value **1**\n",
    "\n",
    "\n",
    "###### What happened when we visited the link? \n",
    "1. The browser made a HTTP GET request\n",
    "2. The results of the request was returned by the httpbin.org website's server\n",
    "3. The result was displayed by the browser.\n",
    "\n",
    "###### Now let's try to make the same HTTP GET requests using Python by running the cells below"
   ]
  },
  {
   "cell_type": "code",
   "execution_count": 1,
   "metadata": {},
   "outputs": [
    {
     "name": "stdout",
     "output_type": "stream",
     "text": [
      "{\n",
      "  \"args\": {}, \n",
      "  \"headers\": {\n",
      "    \"Accept\": \"*/*\", \n",
      "    \"Accept-Encoding\": \"gzip, deflate\", \n",
      "    \"Host\": \"httpbin.org\", \n",
      "    \"User-Agent\": \"python-requests/2.22.0\"\n",
      "  }, \n",
      "  \"origin\": \"14.139.128.32, 14.139.128.32\", \n",
      "  \"url\": \"https://httpbin.org/get\"\n",
      "}\n",
      "\n"
     ]
    }
   ],
   "source": [
    "import requests\n",
    "response=requests.get(\"http://httpbin.org/get\", )\n",
    "print(response.text)"
   ]
  },
  {
   "cell_type": "markdown",
   "metadata": {},
   "source": [
    "###### Let's make another request, this time with the GET parameters.\n",
    "Run the cell below"
   ]
  },
  {
   "cell_type": "code",
   "execution_count": 18,
   "metadata": {},
   "outputs": [
    {
     "name": "stdout",
     "output_type": "stream",
     "text": [
      "{\n",
      "  \"args\": {\n",
      "    \"user\": \"1\"\n",
      "  }, \n",
      "  \"headers\": {\n",
      "    \"Accept\": \"*/*\", \n",
      "    \"Accept-Encoding\": \"gzip, deflate\", \n",
      "    \"Host\": \"httpbin.org\", \n",
      "    \"User-Agent\": \"python-requests/2.22.0\"\n",
      "  }, \n",
      "  \"origin\": \"14.139.128.32, 14.139.128.32\", \n",
      "  \"url\": \"https://httpbin.org/get?user=1\"\n",
      "}\n",
      "\n"
     ]
    }
   ],
   "source": [
    "response=requests.get(\"http://httpbin.org/get\",params={'user':1})\n",
    "print(response.text)"
   ]
  },
  {
   "cell_type": "markdown",
   "metadata": {},
   "source": [
    "###### Let's now try HTTP POST with Python requests\n",
    "\n",
    "1. HTTP POST requets can be used to send data over HTTP requests.\n",
    "2. The data sent over a POST request can be in JSON format\n",
    "3. Read more about JSON here - https://en.wikipedia.org/wiki/JSON#Example\n",
    "\n",
    "###### Run the following cell to post JSON data to the usrl at http://httpbin.org/post "
   ]
  },
  {
   "cell_type": "code",
   "execution_count": 24,
   "metadata": {},
   "outputs": [
    {
     "name": "stdout",
     "output_type": "stream",
     "text": [
      "{\n",
      "  \"args\": {}, \n",
      "  \"data\": \"{\\\"user\\\": 1}\", \n",
      "  \"files\": {}, \n",
      "  \"form\": {}, \n",
      "  \"headers\": {\n",
      "    \"Accept\": \"*/*\", \n",
      "    \"Accept-Encoding\": \"gzip, deflate\", \n",
      "    \"Content-Length\": \"11\", \n",
      "    \"Content-Type\": \"application/json\", \n",
      "    \"Host\": \"httpbin.org\", \n",
      "    \"User-Agent\": \"python-requests/2.22.0\"\n",
      "  }, \n",
      "  \"json\": {\n",
      "    \"user\": 1\n",
      "  }, \n",
      "  \"origin\": \"14.139.128.32, 14.139.128.32\", \n",
      "  \"url\": \"https://httpbin.org/post\"\n",
      "}\n",
      "\n"
     ]
    }
   ],
   "source": [
    "response=requests.post(\"http://httpbin.org/post\",json={\"user\":1})\n",
    "print(response.text)"
   ]
  },
  {
   "cell_type": "markdown",
   "metadata": {},
   "source": [
    "##### 6. Elasticsearch API (Continued)\n",
    "\n",
    "Now that we have figured out how to make GET and POST requests using python, we will try to insert some data into the Elasticsearch DB.\n",
    "\n",
    "Elasticsearch stores data in `indices` which are similar to a how data is stored in `Tables` in a Relational DB like MySQL.\n",
    "\n",
    "Let's call the index as `arduino` as we are storing data from the arduino. We can name it anything sensible.\n",
    "Another sensible name could be `SensorName` where SensorName is the name of the sensor from which data is inserted into the DB - e.g LightSensor, MoistureSensor, TemperatureSensor, etc.\n",
    "\n",
    "To insert data into an index called INDEXNAME, we post the data to the URL - http://localhost:9200/INDEXNAME/_doc\n",
    "\n",
    "Run the following cell to insert a JSON document containing some dummy sensor values into the Elasticsearch DB.\n",
    "\n"
   ]
  },
  {
   "cell_type": "code",
   "execution_count": 49,
   "metadata": {},
   "outputs": [
    {
     "name": "stdout",
     "output_type": "stream",
     "text": [
      "{'_id': '1mIiRmsBYRrSjZ8y_I33',\n",
      " '_index': 'arduino',\n",
      " '_primary_term': 1,\n",
      " '_seq_no': 0,\n",
      " '_shards': {'failed': 0, 'successful': 1, 'total': 2},\n",
      " '_type': '_doc',\n",
      " '_version': 1,\n",
      " 'result': 'created'}\n"
     ]
    }
   ],
   "source": [
    "from pprint import pprint\n",
    "import datetime\n",
    "\n",
    "ElasticsearchBaseURL=\"http://localhost:9200/\"\n",
    "index=\"arduino\"\n",
    "url= ElasticsearchBaseURL + index + \"/_doc\"\n",
    "dummySensorReading={\"temperature\":25,\"timestamp\":datetime.datetime.now().isoformat()}\n",
    "\n",
    "response=requests.post(url,json=dummySensorReading)\n",
    "pprint(response.json())"
   ]
  },
  {
   "cell_type": "markdown",
   "metadata": {},
   "source": [
    "---\n",
    "###### Let us now retrieve the document we just stored in the Elasticsearch DB.\n",
    "---"
   ]
  },
  {
   "cell_type": "code",
   "execution_count": 56,
   "metadata": {},
   "outputs": [
    {
     "name": "stdout",
     "output_type": "stream",
     "text": [
      "{'_shards': {'failed': 0, 'skipped': 0, 'successful': 1, 'total': 1},\n",
      " 'hits': {'hits': [{'_id': '1mIiRmsBYRrSjZ8y_I33',\n",
      "                    '_index': 'arduino',\n",
      "                    '_score': 1.0,\n",
      "                    '_source': {'temperature': 25,\n",
      "                                'timestamp': '2019-06-11T16:13:46.393945'},\n",
      "                    '_type': '_doc'}],\n",
      "          'max_score': 1.0,\n",
      "          'total': {'relation': 'eq', 'value': 1}},\n",
      " 'timed_out': False,\n",
      " 'took': 2}\n"
     ]
    }
   ],
   "source": [
    "response=requests.get(ElasticsearchBaseURL  +index+ \"/_search\")\n",
    "pprint(response.json())"
   ]
  },
  {
   "cell_type": "markdown",
   "metadata": {},
   "source": [
    "---\n",
    "###### Let's now delete the whole index called `arduino`\n",
    "---"
   ]
  },
  {
   "cell_type": "code",
   "execution_count": 57,
   "metadata": {},
   "outputs": [
    {
     "name": "stdout",
     "output_type": "stream",
     "text": [
      "'{\"acknowledged\":true}'\n"
     ]
    }
   ],
   "source": [
    "response=requests.delete(ElasticsearchBaseURL+index)\n",
    "pprint(response.text)"
   ]
  },
  {
   "cell_type": "markdown",
   "metadata": {},
   "source": [
    "##### 7. Summary \n",
    "\n",
    "1. Elasticsearch DB can be used to store and retireve JSON documents (in an INDEX) created from sensor data\n",
    "2. REST APIs like POST and GET are used to insert and query data from Elasticsearch DB into/from an INDEX \n",
    "3. HTTP DELETE method can be used to delete an INDEX\n",
    "4. To insert data we POST to the ElasticsearchBaseURL (default: http://localhost:9200) with INDEX name appended and `_doc` appended to the path i.e http://localhost:9200/INDEXNAME/_doc\n",
    "5. To query the data stored in an INDEX, we use the URL http://localhost:9200/INDEXNAME/_search\n",
    "6. To delete and INDEX, we make an HTTP DELETE request to the URL http://localhost:9200/INDEXNAME"
   ]
  },
  {
   "cell_type": "code",
   "execution_count": null,
   "metadata": {},
   "outputs": [],
   "source": []
  }
 ],
 "metadata": {
  "kernelspec": {
   "display_name": "Python 3",
   "language": "python",
   "name": "python3"
  },
  "language_info": {
   "codemirror_mode": {
    "name": "ipython",
    "version": 3
   },
   "file_extension": ".py",
   "mimetype": "text/x-python",
   "name": "python",
   "nbconvert_exporter": "python",
   "pygments_lexer": "ipython3",
   "version": "3.6.8"
  }
 },
 "nbformat": 4,
 "nbformat_minor": 2
}
